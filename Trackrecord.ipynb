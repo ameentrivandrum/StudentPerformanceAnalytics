{
 "cells": [
  {
   "cell_type": "code",
   "execution_count": 3,
   "id": "da2011ea",
   "metadata": {},
   "outputs": [
    {
     "name": "stdout",
     "output_type": "stream",
     "text": [
      "Reports saved in folder: track_record\n"
     ]
    }
   ],
   "source": [
    "import pandas as pd\n",
    "import matplotlib.pyplot as plt\n",
    "import os\n",
    "\n",
    "# ---------------- Load Excel Data ----------------\n",
    "file_path = \"S7 track record.xlsx\"\n",
    "# Excel file has multi-row headers (rows 7–8), so we set header=[6, 7] (0-based)\n",
    "df = pd.read_excel(file_path, header=[6, 7])\n",
    "\n",
    "# Flatten MultiIndex column names for easier access\n",
    "df.columns = [f\"{a}_{b}\" if \"Unnamed\" not in str(b) else str(a) for a, b in df.columns]\n",
    "\n",
    "# Rename key columns for clarity\n",
    "df = df.rename(columns={\n",
    "    \"Register No\": \"RegNo\",\n",
    "    \"Name of the student\": \"Name\"\n",
    "})\n",
    "\n",
    "# Drop any rows without a registration number\n",
    "df = df.dropna(subset=[\"RegNo\"])\n",
    "# Ensure registration numbers are strings and stripped of extra spaces\n",
    "df[\"RegNo\"] = df[\"RegNo\"].astype(str).str.strip()\n",
    "df = df.reset_index(drop=True)\n",
    "\n",
    "# ---------------- Define Semesters ----------------\n",
    "semesters = [\"S1\", \"S2\", \"S3\", \"S4\", \"S5\", \"S6\"]\n",
    "\n",
    "# ---------------- Create Output Directory ----------------\n",
    "output_dir = \"track_record\"\n",
    "os.makedirs(output_dir, exist_ok=True)\n",
    "\n",
    "# ---------------- Generate Per-Student Progress Reports ----------------\n",
    "for idx, row in df.iterrows():\n",
    "    regno = row[\"RegNo\"]\n",
    "    name = str(row[\"Name\"]).strip().replace(\"/\", \"-\").replace(\"\\\\\", \"-\")  # Clean filename\n",
    "\n",
    "    # Extract back paper counts for each semester\n",
    "    backpapers = []\n",
    "    for sem in semesters:\n",
    "        back_col = [col for col in df.columns if col.startswith(f\"{sem}_Back\")]\n",
    "        if back_col:\n",
    "            back_count = row[back_col[0]]\n",
    "        else:\n",
    "            back_count = 0\n",
    "        backpapers.append(back_count)\n",
    "\n",
    "    # Extract total back papers if available; fallback to sum\n",
    "    total_cols = [col for col in df.columns if \"Total back papers\" in col]\n",
    "    total_back = row[total_cols].values[0] if len(total_cols) > 0 else sum(backpapers)\n",
    "\n",
    "    # ---------------- Plot Semester Back Papers ----------------\n",
    "    plt.figure(figsize=(6, 4))\n",
    "    plt.bar(semesters, backpapers, color=\"teal\")\n",
    "    plt.title(f\"Progress Report: {name} ({regno})\")\n",
    "    plt.xlabel(\"Semester\")\n",
    "    plt.ylabel(\"Back Papers\")\n",
    "    plt.ylim(0, max(backpapers) + 2)\n",
    "\n",
    "    # Display total back papers on the chart\n",
    "    center_x = (len(semesters) - 1) / 2\n",
    "    plt.text(center_x, max(backpapers) + 1,\n",
    "             f\"Total Back Papers: {total_back}\",\n",
    "             ha='center', fontsize=12, color=\"red\", weight=\"bold\")\n",
    "\n",
    "    # Save chart as PNG image per student\n",
    "    file_name = f\"{regno}_{name}.png\"\n",
    "    file_path = os.path.join(output_dir, file_name)\n",
    "    plt.savefig(file_path, bbox_inches=\"tight\")\n",
    "    plt.close()\n",
    "\n",
    "print(f\"Reports saved in folder: {output_dir}\")\n"
   ]
  }
 ],
 "metadata": {
  "kernelspec": {
   "display_name": "base",
   "language": "python",
   "name": "python3"
  },
  "language_info": {
   "codemirror_mode": {
    "name": "ipython",
    "version": 3
   },
   "file_extension": ".py",
   "mimetype": "text/x-python",
   "name": "python",
   "nbconvert_exporter": "python",
   "pygments_lexer": "ipython3",
   "version": "3.12.7"
  }
 },
 "nbformat": 4,
 "nbformat_minor": 5
}
