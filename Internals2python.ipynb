{
 "cells": [
  {
   "cell_type": "code",
   "execution_count": 2,
   "id": "f95e866d",
   "metadata": {},
   "outputs": [
    {
     "data": {
      "application/vnd.plotly.v1+json": {
       "config": {
        "plotlyServerURL": "https://plot.ly"
       },
       "data": [
        {
         "customdata": {
          "bdata": "Gwr8ARAKAwARCgQAFAjxARgK9AAcCvkAIgkCAhQK9QAjCgABHgr9ACAK+QAcCvcBIwoCACAKAAAiCf8AEgrz/x4KAQAgCv0AHQoEAB4KBQAMCA8BDQj8AQ==",
          "dtype": "i1",
          "shape": "22, 4"
         },
         "hovertemplate": "Name: %{text}<br>Internal: %{y}<br>Series Avg: %{customdata[0]}<br>Assignment Avg: %{customdata[1]}<br>Series Diff: %{customdata[2]}<br>Assignment Diff: %{customdata[3]}",
         "marker": {
          "color": {
           "bdata": "JRobHCImKx4tKComLSorHCgqJygUFQ==",
           "dtype": "i1"
          },
          "colorscale": [
           [
            0,
            "#440154"
           ],
           [
            0.1111111111111111,
            "#482878"
           ],
           [
            0.2222222222222222,
            "#3e4989"
           ],
           [
            0.3333333333333333,
            "#31688e"
           ],
           [
            0.4444444444444444,
            "#26828e"
           ],
           [
            0.5555555555555556,
            "#1f9e89"
           ],
           [
            0.6666666666666666,
            "#35b779"
           ],
           [
            0.7777777777777778,
            "#6ece58"
           ],
           [
            0.8888888888888888,
            "#b5de2b"
           ],
           [
            1,
            "#fde725"
           ]
          ]
         },
         "name": "Internal",
         "text": [
          "AKASH BABU",
          "AMALKRISHNA S",
          "ANANDHU A B",
          "ANU A",
          "ANU S",
          "AROMAL A S",
          "ARYA KRISHNAN",
          "ATHUL KRISHNA S",
          "BHAGYA SHYN",
          "B S ANJANA",
          "MEENAKSHI S",
          "RASINI RAJMIN",
          "R REMYA KRISHNAN",
          "SAJILA A S",
          "S AMAL",
          "SHARU MOHAN",
          "SNEHA S",
          "SREEHARI J",
          "SWETHA SURESH",
          "VARSHA ANIL",
          "Pranav P K",
          "Adhin S O"
         ],
         "type": "bar",
         "x": {
          "bdata": "AQIDBAUGBwgJCgsMDQ4PEBESExQVFg==",
          "dtype": "i1"
         },
         "xaxis": "x",
         "y": {
          "bdata": "JRobHCImKx4tKComLSorHCgqJygUFQ==",
          "dtype": "i1"
         },
         "yaxis": "y"
        },
        {
         "marker": {
          "color": "indianred"
         },
         "name": "Series 2 - Series 1",
         "type": "bar",
         "x": {
          "bdata": "AQIDBAUGBwgJCgsMDQ4PEBESExQVFg==",
          "dtype": "i1"
         },
         "xaxis": "x2",
         "y": {
          "bdata": "/AME8fT5AvUA/fn3AgD/8wH9BAUP/A==",
          "dtype": "i1"
         },
         "yaxis": "y2"
        },
        {
         "marker": {
          "color": "royalblue"
         },
         "name": "Assignment 2 - Assignment 1",
         "type": "bar",
         "x": {
          "bdata": "AQIDBAUGBwgJCgsMDQ4PEBESExQVFg==",
          "dtype": "i1"
         },
         "xaxis": "x2",
         "y": {
          "bdata": "AQAAAQAAAgABAAABAAAA/wAAAAABAQ==",
          "dtype": "i1"
         },
         "yaxis": "y2"
        }
       ],
       "layout": {
        "annotations": [
         {
          "font": {
           "size": 16
          },
          "showarrow": false,
          "text": "Internal Marks Distribution",
          "x": 0.5,
          "xanchor": "center",
          "xref": "paper",
          "y": 1,
          "yanchor": "bottom",
          "yref": "paper"
         },
         {
          "font": {
           "size": 16
          },
          "showarrow": false,
          "text": "Series vs Assignment Differences",
          "x": 0.5,
          "xanchor": "center",
          "xref": "paper",
          "y": 0.375,
          "yanchor": "bottom",
          "yref": "paper"
         }
        ],
        "height": 800,
        "showlegend": true,
        "template": {
         "data": {
          "bar": [
           {
            "error_x": {
             "color": "#2a3f5f"
            },
            "error_y": {
             "color": "#2a3f5f"
            },
            "marker": {
             "line": {
              "color": "#E5ECF6",
              "width": 0.5
             },
             "pattern": {
              "fillmode": "overlay",
              "size": 10,
              "solidity": 0.2
             }
            },
            "type": "bar"
           }
          ],
          "barpolar": [
           {
            "marker": {
             "line": {
              "color": "#E5ECF6",
              "width": 0.5
             },
             "pattern": {
              "fillmode": "overlay",
              "size": 10,
              "solidity": 0.2
             }
            },
            "type": "barpolar"
           }
          ],
          "carpet": [
           {
            "aaxis": {
             "endlinecolor": "#2a3f5f",
             "gridcolor": "white",
             "linecolor": "white",
             "minorgridcolor": "white",
             "startlinecolor": "#2a3f5f"
            },
            "baxis": {
             "endlinecolor": "#2a3f5f",
             "gridcolor": "white",
             "linecolor": "white",
             "minorgridcolor": "white",
             "startlinecolor": "#2a3f5f"
            },
            "type": "carpet"
           }
          ],
          "choropleth": [
           {
            "colorbar": {
             "outlinewidth": 0,
             "ticks": ""
            },
            "type": "choropleth"
           }
          ],
          "contour": [
           {
            "colorbar": {
             "outlinewidth": 0,
             "ticks": ""
            },
            "colorscale": [
             [
              0,
              "#0d0887"
             ],
             [
              0.1111111111111111,
              "#46039f"
             ],
             [
              0.2222222222222222,
              "#7201a8"
             ],
             [
              0.3333333333333333,
              "#9c179e"
             ],
             [
              0.4444444444444444,
              "#bd3786"
             ],
             [
              0.5555555555555556,
              "#d8576b"
             ],
             [
              0.6666666666666666,
              "#ed7953"
             ],
             [
              0.7777777777777778,
              "#fb9f3a"
             ],
             [
              0.8888888888888888,
              "#fdca26"
             ],
             [
              1,
              "#f0f921"
             ]
            ],
            "type": "contour"
           }
          ],
          "contourcarpet": [
           {
            "colorbar": {
             "outlinewidth": 0,
             "ticks": ""
            },
            "type": "contourcarpet"
           }
          ],
          "heatmap": [
           {
            "colorbar": {
             "outlinewidth": 0,
             "ticks": ""
            },
            "colorscale": [
             [
              0,
              "#0d0887"
             ],
             [
              0.1111111111111111,
              "#46039f"
             ],
             [
              0.2222222222222222,
              "#7201a8"
             ],
             [
              0.3333333333333333,
              "#9c179e"
             ],
             [
              0.4444444444444444,
              "#bd3786"
             ],
             [
              0.5555555555555556,
              "#d8576b"
             ],
             [
              0.6666666666666666,
              "#ed7953"
             ],
             [
              0.7777777777777778,
              "#fb9f3a"
             ],
             [
              0.8888888888888888,
              "#fdca26"
             ],
             [
              1,
              "#f0f921"
             ]
            ],
            "type": "heatmap"
           }
          ],
          "histogram": [
           {
            "marker": {
             "pattern": {
              "fillmode": "overlay",
              "size": 10,
              "solidity": 0.2
             }
            },
            "type": "histogram"
           }
          ],
          "histogram2d": [
           {
            "colorbar": {
             "outlinewidth": 0,
             "ticks": ""
            },
            "colorscale": [
             [
              0,
              "#0d0887"
             ],
             [
              0.1111111111111111,
              "#46039f"
             ],
             [
              0.2222222222222222,
              "#7201a8"
             ],
             [
              0.3333333333333333,
              "#9c179e"
             ],
             [
              0.4444444444444444,
              "#bd3786"
             ],
             [
              0.5555555555555556,
              "#d8576b"
             ],
             [
              0.6666666666666666,
              "#ed7953"
             ],
             [
              0.7777777777777778,
              "#fb9f3a"
             ],
             [
              0.8888888888888888,
              "#fdca26"
             ],
             [
              1,
              "#f0f921"
             ]
            ],
            "type": "histogram2d"
           }
          ],
          "histogram2dcontour": [
           {
            "colorbar": {
             "outlinewidth": 0,
             "ticks": ""
            },
            "colorscale": [
             [
              0,
              "#0d0887"
             ],
             [
              0.1111111111111111,
              "#46039f"
             ],
             [
              0.2222222222222222,
              "#7201a8"
             ],
             [
              0.3333333333333333,
              "#9c179e"
             ],
             [
              0.4444444444444444,
              "#bd3786"
             ],
             [
              0.5555555555555556,
              "#d8576b"
             ],
             [
              0.6666666666666666,
              "#ed7953"
             ],
             [
              0.7777777777777778,
              "#fb9f3a"
             ],
             [
              0.8888888888888888,
              "#fdca26"
             ],
             [
              1,
              "#f0f921"
             ]
            ],
            "type": "histogram2dcontour"
           }
          ],
          "mesh3d": [
           {
            "colorbar": {
             "outlinewidth": 0,
             "ticks": ""
            },
            "type": "mesh3d"
           }
          ],
          "parcoords": [
           {
            "line": {
             "colorbar": {
              "outlinewidth": 0,
              "ticks": ""
             }
            },
            "type": "parcoords"
           }
          ],
          "pie": [
           {
            "automargin": true,
            "type": "pie"
           }
          ],
          "scatter": [
           {
            "fillpattern": {
             "fillmode": "overlay",
             "size": 10,
             "solidity": 0.2
            },
            "type": "scatter"
           }
          ],
          "scatter3d": [
           {
            "line": {
             "colorbar": {
              "outlinewidth": 0,
              "ticks": ""
             }
            },
            "marker": {
             "colorbar": {
              "outlinewidth": 0,
              "ticks": ""
             }
            },
            "type": "scatter3d"
           }
          ],
          "scattercarpet": [
           {
            "marker": {
             "colorbar": {
              "outlinewidth": 0,
              "ticks": ""
             }
            },
            "type": "scattercarpet"
           }
          ],
          "scattergeo": [
           {
            "marker": {
             "colorbar": {
              "outlinewidth": 0,
              "ticks": ""
             }
            },
            "type": "scattergeo"
           }
          ],
          "scattergl": [
           {
            "marker": {
             "colorbar": {
              "outlinewidth": 0,
              "ticks": ""
             }
            },
            "type": "scattergl"
           }
          ],
          "scattermap": [
           {
            "marker": {
             "colorbar": {
              "outlinewidth": 0,
              "ticks": ""
             }
            },
            "type": "scattermap"
           }
          ],
          "scattermapbox": [
           {
            "marker": {
             "colorbar": {
              "outlinewidth": 0,
              "ticks": ""
             }
            },
            "type": "scattermapbox"
           }
          ],
          "scatterpolar": [
           {
            "marker": {
             "colorbar": {
              "outlinewidth": 0,
              "ticks": ""
             }
            },
            "type": "scatterpolar"
           }
          ],
          "scatterpolargl": [
           {
            "marker": {
             "colorbar": {
              "outlinewidth": 0,
              "ticks": ""
             }
            },
            "type": "scatterpolargl"
           }
          ],
          "scatterternary": [
           {
            "marker": {
             "colorbar": {
              "outlinewidth": 0,
              "ticks": ""
             }
            },
            "type": "scatterternary"
           }
          ],
          "surface": [
           {
            "colorbar": {
             "outlinewidth": 0,
             "ticks": ""
            },
            "colorscale": [
             [
              0,
              "#0d0887"
             ],
             [
              0.1111111111111111,
              "#46039f"
             ],
             [
              0.2222222222222222,
              "#7201a8"
             ],
             [
              0.3333333333333333,
              "#9c179e"
             ],
             [
              0.4444444444444444,
              "#bd3786"
             ],
             [
              0.5555555555555556,
              "#d8576b"
             ],
             [
              0.6666666666666666,
              "#ed7953"
             ],
             [
              0.7777777777777778,
              "#fb9f3a"
             ],
             [
              0.8888888888888888,
              "#fdca26"
             ],
             [
              1,
              "#f0f921"
             ]
            ],
            "type": "surface"
           }
          ],
          "table": [
           {
            "cells": {
             "fill": {
              "color": "#EBF0F8"
             },
             "line": {
              "color": "white"
             }
            },
            "header": {
             "fill": {
              "color": "#C8D4E3"
             },
             "line": {
              "color": "white"
             }
            },
            "type": "table"
           }
          ]
         },
         "layout": {
          "annotationdefaults": {
           "arrowcolor": "#2a3f5f",
           "arrowhead": 0,
           "arrowwidth": 1
          },
          "autotypenumbers": "strict",
          "coloraxis": {
           "colorbar": {
            "outlinewidth": 0,
            "ticks": ""
           }
          },
          "colorscale": {
           "diverging": [
            [
             0,
             "#8e0152"
            ],
            [
             0.1,
             "#c51b7d"
            ],
            [
             0.2,
             "#de77ae"
            ],
            [
             0.3,
             "#f1b6da"
            ],
            [
             0.4,
             "#fde0ef"
            ],
            [
             0.5,
             "#f7f7f7"
            ],
            [
             0.6,
             "#e6f5d0"
            ],
            [
             0.7,
             "#b8e186"
            ],
            [
             0.8,
             "#7fbc41"
            ],
            [
             0.9,
             "#4d9221"
            ],
            [
             1,
             "#276419"
            ]
           ],
           "sequential": [
            [
             0,
             "#0d0887"
            ],
            [
             0.1111111111111111,
             "#46039f"
            ],
            [
             0.2222222222222222,
             "#7201a8"
            ],
            [
             0.3333333333333333,
             "#9c179e"
            ],
            [
             0.4444444444444444,
             "#bd3786"
            ],
            [
             0.5555555555555556,
             "#d8576b"
            ],
            [
             0.6666666666666666,
             "#ed7953"
            ],
            [
             0.7777777777777778,
             "#fb9f3a"
            ],
            [
             0.8888888888888888,
             "#fdca26"
            ],
            [
             1,
             "#f0f921"
            ]
           ],
           "sequentialminus": [
            [
             0,
             "#0d0887"
            ],
            [
             0.1111111111111111,
             "#46039f"
            ],
            [
             0.2222222222222222,
             "#7201a8"
            ],
            [
             0.3333333333333333,
             "#9c179e"
            ],
            [
             0.4444444444444444,
             "#bd3786"
            ],
            [
             0.5555555555555556,
             "#d8576b"
            ],
            [
             0.6666666666666666,
             "#ed7953"
            ],
            [
             0.7777777777777778,
             "#fb9f3a"
            ],
            [
             0.8888888888888888,
             "#fdca26"
            ],
            [
             1,
             "#f0f921"
            ]
           ]
          },
          "colorway": [
           "#636efa",
           "#EF553B",
           "#00cc96",
           "#ab63fa",
           "#FFA15A",
           "#19d3f3",
           "#FF6692",
           "#B6E880",
           "#FF97FF",
           "#FECB52"
          ],
          "font": {
           "color": "#2a3f5f"
          },
          "geo": {
           "bgcolor": "white",
           "lakecolor": "white",
           "landcolor": "#E5ECF6",
           "showlakes": true,
           "showland": true,
           "subunitcolor": "white"
          },
          "hoverlabel": {
           "align": "left"
          },
          "hovermode": "closest",
          "mapbox": {
           "style": "light"
          },
          "paper_bgcolor": "white",
          "plot_bgcolor": "#E5ECF6",
          "polar": {
           "angularaxis": {
            "gridcolor": "white",
            "linecolor": "white",
            "ticks": ""
           },
           "bgcolor": "#E5ECF6",
           "radialaxis": {
            "gridcolor": "white",
            "linecolor": "white",
            "ticks": ""
           }
          },
          "scene": {
           "xaxis": {
            "backgroundcolor": "#E5ECF6",
            "gridcolor": "white",
            "gridwidth": 2,
            "linecolor": "white",
            "showbackground": true,
            "ticks": "",
            "zerolinecolor": "white"
           },
           "yaxis": {
            "backgroundcolor": "#E5ECF6",
            "gridcolor": "white",
            "gridwidth": 2,
            "linecolor": "white",
            "showbackground": true,
            "ticks": "",
            "zerolinecolor": "white"
           },
           "zaxis": {
            "backgroundcolor": "#E5ECF6",
            "gridcolor": "white",
            "gridwidth": 2,
            "linecolor": "white",
            "showbackground": true,
            "ticks": "",
            "zerolinecolor": "white"
           }
          },
          "shapedefaults": {
           "line": {
            "color": "#2a3f5f"
           }
          },
          "ternary": {
           "aaxis": {
            "gridcolor": "white",
            "linecolor": "white",
            "ticks": ""
           },
           "baxis": {
            "gridcolor": "white",
            "linecolor": "white",
            "ticks": ""
           },
           "bgcolor": "#E5ECF6",
           "caxis": {
            "gridcolor": "white",
            "linecolor": "white",
            "ticks": ""
           }
          },
          "title": {
           "x": 0.05
          },
          "xaxis": {
           "automargin": true,
           "gridcolor": "white",
           "linecolor": "white",
           "ticks": "",
           "title": {
            "standoff": 15
           },
           "zerolinecolor": "white",
           "zerolinewidth": 2
          },
          "yaxis": {
           "automargin": true,
           "gridcolor": "white",
           "linecolor": "white",
           "ticks": "",
           "title": {
            "standoff": 15
           },
           "zerolinecolor": "white",
           "zerolinewidth": 2
          }
         }
        },
        "title": {
         "text": "Student Performance Analysis"
        },
        "xaxis": {
         "anchor": "y",
         "domain": [
          0,
          1
         ]
        },
        "xaxis2": {
         "anchor": "y2",
         "domain": [
          0,
          1
         ]
        },
        "yaxis": {
         "anchor": "x",
         "domain": [
          0.625,
          1
         ]
        },
        "yaxis2": {
         "anchor": "x2",
         "domain": [
          0,
          0.375
         ]
        }
       }
      }
     },
     "metadata": {},
     "output_type": "display_data"
    }
   ],
   "source": [
    "import openpyxl as xl\n",
    "from openpyxl.styles import PatternFill, Alignment\n",
    "from openpyxl.formatting.rule import CellIsRule\n",
    "from openpyxl.utils import get_column_letter\n",
    "from openpyxl.chart import BarChart, Reference\n",
    "import pandas as pd\n",
    "import plotly.express as px\n",
    "import plotly.subplots as sp\n",
    "import plotly.graph_objects as go\n",
    "\n",
    "# ---------------- Excel Processing Section ----------------\n",
    "file_path = \"S2PythonInternal.xlsx\"   # Path to input Excel file\n",
    "wb = xl.load_workbook(file_path)\n",
    "sheet = wb.active\n",
    "\n",
    "# Column indices for marks in Excel\n",
    "series1_marks = 3\n",
    "series2_marks = 4\n",
    "assgn1_marks = 5\n",
    "assgn2_marks = 6\n",
    "series_avg_marks = 7\n",
    "assgn_avg_marks = 8\n",
    "internal_marks = 9\n",
    "\n",
    "# Maximum marks for each evaluation component\n",
    "max_marks = {\n",
    "    series1_marks: 40,\n",
    "    series2_marks: 40,\n",
    "    assgn1_marks: 10,\n",
    "    assgn2_marks: 10,\n",
    "    series_avg_marks: 40,\n",
    "    assgn_avg_marks: 10,\n",
    "    internal_marks: 50\n",
    "}\n",
    "\n",
    "# Determine last non-empty row in the Roll No column\n",
    "max_row = sheet.max_row\n",
    "while max_row > 0 and sheet.cell(max_row, 1).value is None:\n",
    "    max_row -= 1\n",
    "\n",
    "# Determine last filled column in header row (row 4)\n",
    "max_col = sheet.max_column\n",
    "while max_col > 0 and sheet.cell(4, max_col).value is None:\n",
    "    max_col -= 1\n",
    "\n",
    "# Apply wrap text and center alignment to header row\n",
    "for col in range(1, max_col + 1):\n",
    "    cell = sheet.cell(4, col)\n",
    "    cell.alignment = Alignment(wrap_text=True, vertical='center', horizontal='center')\n",
    "\n",
    "# Adjust row height to accommodate wrapped header text\n",
    "sheet.row_dimensions[4].height = 30\n",
    "\n",
    "# Calculate averages and total internal marks for each student\n",
    "for row in range(5, max_row + 1):\n",
    "    s1 = sheet.cell(row, series1_marks).value\n",
    "    s2 = sheet.cell(row, series2_marks).value\n",
    "    a1 = sheet.cell(row, assgn1_marks).value\n",
    "    a2 = sheet.cell(row, assgn2_marks).value\n",
    "\n",
    "    if s1 is not None and s2 is not None:\n",
    "        sheet.cell(row, series_avg_marks).value = round((s1 + s2) / 2, 0)\n",
    "    if a1 is not None and a2 is not None:\n",
    "        sheet.cell(row, assgn_avg_marks).value = round((a1 + a2) / 2, 0)\n",
    "\n",
    "    sa = sheet.cell(row, series_avg_marks).value\n",
    "    aa = sheet.cell(row, assgn_avg_marks).value\n",
    "    if sa is not None and aa is not None:\n",
    "        sheet.cell(row, internal_marks).value = sa + aa\n",
    "\n",
    "# Highlight cells in red if marks are below 50% of maximum\n",
    "red_fill = PatternFill(start_color=\"FF9999\", end_color=\"FF9999\", fill_type=\"solid\")\n",
    "for col, max_mark in max_marks.items():\n",
    "    threshold = max_mark * 0.5\n",
    "    col_letter = get_column_letter(col)\n",
    "    rule = CellIsRule(operator=\"lessThan\", formula=[str(threshold)], fill=red_fill)\n",
    "    sheet.conditional_formatting.add(f\"{col_letter}5:{col_letter}{max_row}\", rule)\n",
    "\n",
    "# Create a bar chart in Excel for internal marks distribution\n",
    "chart = BarChart()\n",
    "data = Reference(sheet, min_col=internal_marks, min_row=4, max_row=max_row)\n",
    "cats = Reference(sheet, min_col=2, min_row=5, max_row=max_row)  # Student roll numbers\n",
    "chart.add_data(data, titles_from_data=True)\n",
    "chart.set_categories(cats)\n",
    "chart.title = \"Internal Marks Distribution\"\n",
    "sheet.add_chart(chart, f\"A{max_row + 2}\")  # Place chart below data\n",
    "\n",
    "# Save the updated Excel workbook\n",
    "wb.save(\"S2PythonInternal_updated.xlsx\")\n",
    "\n",
    "# ---------------- Pandas + Plotly Analysis Section ----------------\n",
    "# Load Excel data into Pandas for interactive visualization\n",
    "file_path = \"S2PythonInternal_updated.xlsx\"\n",
    "df = pd.read_excel(file_path, skiprows=3)\n",
    "df = df.iloc[:, :9]\n",
    "\n",
    "# Rename columns for clarity\n",
    "df.columns = [\n",
    "    \"Roll No\", \"Name\",\n",
    "    \"Series 1\", \"Series 2\",\n",
    "    \"Assignment 1\", \"Assignment 2\",\n",
    "    \"Series Avg\", \"Assignment Avg\",\n",
    "    \"Internal\"\n",
    "]\n",
    "\n",
    "# Compute difference between series and assignment scores\n",
    "df[\"Series Diff\"] = df[\"Series 2\"] - df[\"Series 1\"]\n",
    "df[\"Assignment Diff\"] = df[\"Assignment 2\"] - df[\"Assignment 1\"]\n",
    "\n",
    "# ---------------- Interactive Visualization ----------------\n",
    "# Create subplot layout: row 1 for internal marks, row 2 for differences\n",
    "fig = sp.make_subplots(\n",
    "    rows=2, cols=1,\n",
    "    subplot_titles=(\"Internal Marks Distribution\", \"Series vs Assignment Differences\")\n",
    ")\n",
    "\n",
    "# Bar chart: Internal marks for each student\n",
    "fig.add_trace(\n",
    "    go.Bar(\n",
    "        x=df[\"Roll No\"],\n",
    "        y=df[\"Internal\"],\n",
    "        text=df[\"Name\"],\n",
    "        hovertemplate=(\n",
    "            \"Name: %{text}<br>\"\n",
    "            \"Internal: %{y}<br>\"\n",
    "            \"Series Avg: %{customdata[0]}<br>\"\n",
    "            \"Assignment Avg: %{customdata[1]}<br>\"\n",
    "            \"Series Diff: %{customdata[2]}<br>\"\n",
    "            \"Assignment Diff: %{customdata[3]}\"\n",
    "        ),\n",
    "        customdata=df[[\"Series Avg\", \"Assignment Avg\", \"Series Diff\", \"Assignment Diff\"]],\n",
    "        marker=dict(color=df[\"Internal\"], colorscale=\"Viridis\"),\n",
    "        name=\"Internal\"\n",
    "    ),\n",
    "    row=1, col=1\n",
    ")\n",
    "\n",
    "# Bar charts: Differences in series and assignment scores\n",
    "fig.add_trace(\n",
    "    go.Bar(\n",
    "        x=df[\"Roll No\"],\n",
    "        y=df[\"Series Diff\"],\n",
    "        name=\"Series 2 - Series 1\",\n",
    "        marker_color=\"indianred\"\n",
    "    ),\n",
    "    row=2, col=1\n",
    ")\n",
    "fig.add_trace(\n",
    "    go.Bar(\n",
    "        x=df[\"Roll No\"],\n",
    "        y=df[\"Assignment Diff\"],\n",
    "        name=\"Assignment 2 - Assignment 1\",\n",
    "        marker_color=\"royalblue\"\n",
    "    ),\n",
    "    row=2, col=1\n",
    ")\n",
    "\n",
    "# Update layout for better readability\n",
    "fig.update_layout(\n",
    "    height=800,\n",
    "    showlegend=True,\n",
    "    title_text=\"Student Performance Analysis\"\n",
    ")\n",
    "\n",
    "fig.show()\n"
   ]
  }
 ],
 "metadata": {
  "kernelspec": {
   "display_name": "base",
   "language": "python",
   "name": "python3"
  },
  "language_info": {
   "codemirror_mode": {
    "name": "ipython",
    "version": 3
   },
   "file_extension": ".py",
   "mimetype": "text/x-python",
   "name": "python",
   "nbconvert_exporter": "python",
   "pygments_lexer": "ipython3",
   "version": "3.12.7"
  }
 },
 "nbformat": 4,
 "nbformat_minor": 5
}
